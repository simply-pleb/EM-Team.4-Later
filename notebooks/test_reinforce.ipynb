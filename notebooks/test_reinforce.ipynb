{
 "cells": [
  {
   "cell_type": "code",
   "execution_count": 158,
   "metadata": {},
   "outputs": [],
   "source": [
    "import numpy as np\n",
    "import pandas as pd\n",
    "import matplotlib.pyplot as plt\n",
    "\n",
    "import torch\n",
    "\n",
    "import sys\n",
    "\n",
    "sys.path.append(\"../\")\n",
    "\n",
    "from src.envs import RLFSEnvSparse\n",
    "from src.rl import REINFORCE\n",
    "from src.errors import sammon_error"
   ]
  },
  {
   "cell_type": "code",
   "execution_count": 159,
   "metadata": {},
   "outputs": [],
   "source": [
    "INF_LOOP_CNT = 5"
   ]
  },
  {
   "cell_type": "code",
   "execution_count": 160,
   "metadata": {},
   "outputs": [],
   "source": [
    "def get_data_frames(train_path, test_path):\n",
    "    data_train = pd.read_csv(train_path, sep=\",\")\n",
    "    data_test = pd.read_csv(test_path, sep=\",\")\n",
    "\n",
    "    return data_train, data_test\n",
    "\n",
    "\n",
    "def get_data_train_test(data_train, data_test):\n",
    "    X_train = data_train.drop(columns=[\"repository\"], inplace=False)\n",
    "    X_train = X_train.to_numpy()\n",
    "\n",
    "    X_test = data_test.drop(columns=[\"repository\"], inplace=False)\n",
    "    X_test = X_test.to_numpy()\n",
    "\n",
    "    return X_train, X_test\n",
    "\n",
    "def powers_of_two_less_than(n):\n",
    "    max_exponent = int(np.log2(n))  # Find the largest exponent such that 2^k < N\n",
    "    return 2 ** np.arange(max_exponent+1)"
   ]
  },
  {
   "cell_type": "code",
   "execution_count": 161,
   "metadata": {},
   "outputs": [],
   "source": [
    "def train_reinforce_agent(X_train, agent, device, make_plots=False):\n",
    "    state_space = X_train.shape[1]\n",
    "    action_space = X_train.shape[1]\n",
    "    for i, num_features in enumerate(powers_of_two_less_than(state_space//2)):\n",
    "            env = RLFSEnvSparse(\n",
    "                state_size=state_space, data=X_train, max_features=num_features\n",
    "            )\n",
    "            print(f\"Iteration {i}, Number of features {num_features}\")\n",
    "            episode_returns = agent.train(\n",
    "                env=env,\n",
    "                num_episodes=1000 + 1500 // (i+1),\n",
    "                max_steps=num_features,\n",
    "            )\n",
    "            # torch.save(agent.policy.state_dict(), \"models/REINFORCE/policy_weights.pth\")\n",
    "            if make_plots:\n",
    "                plt.plot(episode_returns)\n",
    "                plt.show()"
   ]
  },
  {
   "cell_type": "code",
   "execution_count": 179,
   "metadata": {},
   "outputs": [],
   "source": [
    "def test_agent(X_test, data_test, agent, verbose=True):\n",
    "    state_space = X_test.shape[1]\n",
    "    action_space = X_test.shape[1]\n",
    "    env = RLFSEnvSparse(state_size=state_space, data=X_test, max_features=state_space)\n",
    "    errors = []\n",
    "    num_ftrs = []\n",
    "    selected_features = []\n",
    "    if verbose:\n",
    "        print(\"waiting...\")\n",
    "    for n in range(0, state_space+1):\n",
    "        state = env.reset()\n",
    "        # errors.append(sammon_error(X_test, state))\n",
    "        state_cnt = 0  # int(np.sum(state))\n",
    "        done = False\n",
    "        # if verbose:\n",
    "        #     print(f\"n={n}\")\n",
    "        inf_loop_cnt = INF_LOOP_CNT\n",
    "        action_sequence = []\n",
    "        while state_cnt < n and not done:\n",
    "            if inf_loop_cnt > 0:\n",
    "                action, action_prob = agent.select_action_deterministic(state)\n",
    "            else:\n",
    "                # print(\"+\")\n",
    "                action, action_prob = agent.select_action(state)\n",
    "                # print(np.exp(action_prob.detach().numpy()))\n",
    "\n",
    "            next_state, _, done, _ = env.step(action)\n",
    "            action_sequence.append(action)\n",
    "\n",
    "            if int(np.sum(next_state)) > state_cnt:\n",
    "                # print(state_cnt)\n",
    "                inf_loop_cnt = INF_LOOP_CNT\n",
    "                state_cnt = int(np.sum(next_state))\n",
    "            else:\n",
    "                inf_loop_cnt -= 1\n",
    "\n",
    "            state = next_state\n",
    "        # print(np.sum(state))\n",
    "        error = sammon_error(X_test, state)\n",
    "        errors.append(error)\n",
    "        num_ftrs.append(n)\n",
    "        selected_features.append(\n",
    "            [data_test.drop(columns=[\"repository\"]).columns[action] for action in action_sequence]\n",
    "        )\n",
    "\n",
    "    return errors, num_ftrs, selected_features"
   ]
  },
  {
   "cell_type": "code",
   "execution_count": 180,
   "metadata": {},
   "outputs": [],
   "source": [
    "train_path_class = \"../data/data_class_train.csv\"\n",
    "test_path_class = \"../data/data_class.csv\"\n",
    "train_path_method = \"../data/data_method_train.csv\"\n",
    "test_path_method = \"../data/data_method.csv\""
   ]
  },
  {
   "cell_type": "code",
   "execution_count": 181,
   "metadata": {},
   "outputs": [],
   "source": [
    "data_train_method, data_test_method = get_data_frames(train_path_method, test_path_method)\n",
    "X_train_method, X_test_method = get_data_train_test(data_train_method, data_test_method)\n",
    "state_space_method = X_train_method.shape[1]\n",
    "action_space_method = X_train_method.shape[1]\n",
    "\n",
    "data_train_class, data_test_class = get_data_frames(train_path_class, test_path_class)\n",
    "X_train_class, X_test_class = get_data_train_test(data_train_class, data_test_class)\n",
    "state_space_class = X_train_class.shape[1]\n",
    "action_space_class = X_train_class.shape[1]"
   ]
  },
  {
   "cell_type": "code",
   "execution_count": 182,
   "metadata": {},
   "outputs": [
    {
     "data": {
      "text/plain": [
       "((95, 22), (106, 22))"
      ]
     },
     "execution_count": 182,
     "metadata": {},
     "output_type": "execute_result"
    }
   ],
   "source": [
    "data_train_method.shape, data_test_method.shape"
   ]
  },
  {
   "cell_type": "code",
   "execution_count": 183,
   "metadata": {},
   "outputs": [
    {
     "data": {
      "text/plain": [
       "((115, 22), (128, 22))"
      ]
     },
     "execution_count": 183,
     "metadata": {},
     "output_type": "execute_result"
    }
   ],
   "source": [
    "data_train_class.shape, data_test_class.shape"
   ]
  },
  {
   "cell_type": "code",
   "execution_count": 184,
   "metadata": {},
   "outputs": [],
   "source": [
    "device = torch.device(\"cuda\" if torch.cuda.is_available() else \"cpu\")\n",
    "agent = REINFORCE.REINFORCEAgent(state_space_method, action_space_method, gamma=1, lr=0.0001)"
   ]
  },
  {
   "cell_type": "code",
   "execution_count": 185,
   "metadata": {},
   "outputs": [],
   "source": [
    "def run_train_test(X_train, X_test, data_test, agent, device):\n",
    "    train_reinforce_agent(X_train, agent, device)\n",
    "    return test_agent(X_test, data_test, agent)"
   ]
  },
  {
   "cell_type": "code",
   "execution_count": 186,
   "metadata": {},
   "outputs": [],
   "source": [
    "device = torch.device(\"cuda\" if torch.cuda.is_available() else \"cpu\")"
   ]
  },
  {
   "cell_type": "code",
   "execution_count": 187,
   "metadata": {},
   "outputs": [
    {
     "name": "stdout",
     "output_type": "stream",
     "text": [
      "Iteration 0, Number of features 1\n"
     ]
    },
    {
     "name": "stderr",
     "output_type": "stream",
     "text": [
      "Training Episodes: 100%|██████████| 2500/2500 [00:03<00:00, 650.64it/s, LR=6.05e-5, Return=0.0731]  \n"
     ]
    },
    {
     "name": "stdout",
     "output_type": "stream",
     "text": [
      "Iteration 1, Number of features 2\n"
     ]
    },
    {
     "name": "stderr",
     "output_type": "stream",
     "text": [
      "Training Episodes: 100%|██████████| 1750/1750 [00:02<00:00, 633.23it/s, LR=4.26e-5, Return=0.282]  \n"
     ]
    },
    {
     "name": "stdout",
     "output_type": "stream",
     "text": [
      "Iteration 2, Number of features 4\n"
     ]
    },
    {
     "name": "stderr",
     "output_type": "stream",
     "text": [
      "Training Episodes: 100%|██████████| 1500/1500 [00:03<00:00, 441.71it/s, LR=3.15e-5, Return=0.99]  \n"
     ]
    },
    {
     "name": "stdout",
     "output_type": "stream",
     "text": [
      "Iteration 3, Number of features 8\n"
     ]
    },
    {
     "name": "stderr",
     "output_type": "stream",
     "text": [
      "Training Episodes: 100%|██████████| 1375/1375 [00:04<00:00, 291.33it/s, LR=2.4e-5, Return=0.384]  \n"
     ]
    },
    {
     "name": "stdout",
     "output_type": "stream",
     "text": [
      "waiting...\n",
      "[[], ['HEFF'], ['HEFF', 'HVOL'], ['HEFF', 'HVOL', 'MI'], ['HEFF', 'HVOL', 'MI', 'HCPL'], ['HEFF', 'HVOL', 'MI', 'HCPL', 'HTRP'], ['HEFF', 'HVOL', 'MI', 'HCPL', 'HTRP', 'LOC'], ['HEFF', 'HVOL', 'MI', 'HCPL', 'HTRP', 'LOC', 'HPL'], ['HEFF', 'HVOL', 'MI', 'HCPL', 'HTRP', 'LOC', 'HPL', 'TLOC'], ['HEFF', 'HVOL', 'MI', 'HCPL', 'HTRP', 'LOC', 'HPL', 'TLOC', 'TLLOC'], ['HEFF', 'HVOL', 'MI', 'HCPL', 'HTRP', 'LOC', 'HPL', 'TLOC', 'TLLOC', 'LLOC'], ['HEFF', 'HVOL', 'MI', 'HCPL', 'HTRP', 'LOC', 'HPL', 'TLOC', 'TLLOC', 'LLOC', 'NOS'], ['HEFF', 'HVOL', 'MI', 'HCPL', 'HTRP', 'LOC', 'HPL', 'TLOC', 'TLLOC', 'LLOC', 'NOS', 'CLOC'], ['HEFF', 'HVOL', 'MI', 'HCPL', 'HTRP', 'LOC', 'HPL', 'TLOC', 'TLLOC', 'LLOC', 'NOS', 'CLOC', 'HPV'], ['HEFF', 'HVOL', 'MI', 'HCPL', 'HTRP', 'LOC', 'HPL', 'TLOC', 'TLLOC', 'LLOC', 'NOS', 'CLOC', 'HPV', 'TNOS'], ['HEFF', 'HVOL', 'MI', 'HCPL', 'HTRP', 'LOC', 'HPL', 'TLOC', 'TLLOC', 'LLOC', 'NOS', 'CLOC', 'HPV', 'TNOS', 'DLOC'], ['HEFF', 'HVOL', 'MI', 'HCPL', 'HTRP', 'LOC', 'HPL', 'TLOC', 'TLLOC', 'LLOC', 'NOS', 'CLOC', 'HPV', 'TNOS', 'DLOC', 'TCLOC'], ['HEFF', 'HVOL', 'MI', 'HCPL', 'HTRP', 'LOC', 'HPL', 'TLOC', 'TLLOC', 'LLOC', 'NOS', 'CLOC', 'HPV', 'TNOS', 'DLOC', 'TCLOC', 'McCC'], ['HEFF', 'HVOL', 'MI', 'HCPL', 'HTRP', 'LOC', 'HPL', 'TLOC', 'TLLOC', 'LLOC', 'NOS', 'CLOC', 'HPV', 'TNOS', 'DLOC', 'TCLOC', 'McCC', 'NUMPAR'], ['HEFF', 'HVOL', 'MI', 'HCPL', 'HTRP', 'LOC', 'HPL', 'TLOC', 'TLLOC', 'LLOC', 'NOS', 'CLOC', 'HPV', 'TNOS', 'DLOC', 'TCLOC', 'McCC', 'NUMPAR', 'HDIF'], ['HEFF', 'HVOL', 'MI', 'HCPL', 'HTRP', 'LOC', 'HPL', 'TLOC', 'TLLOC', 'LLOC', 'NOS', 'CLOC', 'HPV', 'TNOS', 'DLOC', 'TCLOC', 'McCC', 'NUMPAR', 'HDIF', 'NOI'], ['HEFF', 'HVOL', 'MI', 'HCPL', 'HTRP', 'LOC', 'HPL', 'TLOC', 'TLLOC', 'LLOC', 'NOS', 'CLOC', 'HPV', 'TNOS', 'DLOC', 'TCLOC', 'McCC', 'NUMPAR', 'HDIF', 'NOI', 'HNDB']]\n"
     ]
    }
   ],
   "source": [
    "agent_method = REINFORCE.REINFORCEAgent(\n",
    "    state_space_method, action_space_method, gamma=1, lr=0.0001\n",
    ")\n",
    "errors, num_ftrs, selected_features = run_train_test(\n",
    "    X_train=X_train_method,\n",
    "    X_test=X_test_method,\n",
    "    data_test=data_test_method,\n",
    "    agent=agent_method,\n",
    "    device=device,\n",
    ")\n",
    "\n",
    "print(selected_features)\n"
   ]
  },
  {
   "cell_type": "code",
   "execution_count": 188,
   "metadata": {},
   "outputs": [],
   "source": [
    "selected_features_ = ['']\n",
    "selected_features_.extend(selected_features[-1])"
   ]
  },
  {
   "cell_type": "code",
   "execution_count": 189,
   "metadata": {},
   "outputs": [
    {
     "data": {
      "image/png": "[encoded data removed]",
      "text/plain": [
       "<Figure size 1000x750 with 1 Axes>"
      ]
     },
     "metadata": {},
     "output_type": "display_data"
    }
   ],
   "source": [
    "# Plot\n",
    "plt.figure(figsize=(10, 7.5))\n",
    "plt.plot(num_ftrs, errors, marker='o', linestyle='-', color='b')\n",
    "plt.xlabel('Sequentially Selected Metrics')\n",
    "plt.ylabel('Sammon Error')\n",
    "# plt.title('Sammon Error vs Number of Features')\n",
    "plt.xticks(num_ftrs, selected_features_, rotation=45, ha='right')  # Map indices to feature names\n",
    "plt.grid(True)\n",
    "plt.show()"
   ]
  },
  {
   "cell_type": "code",
   "execution_count": 190,
   "metadata": {},
   "outputs": [
    {
     "name": "stdout",
     "output_type": "stream",
     "text": [
      "Iteration 0, Number of features 1\n"
     ]
    },
    {
     "name": "stderr",
     "output_type": "stream",
     "text": [
      "Training Episodes: 100%|██████████| 2500/2500 [00:03<00:00, 666.86it/s, LR=6.05e-5, Return=0.133]  \n"
     ]
    },
    {
     "name": "stdout",
     "output_type": "stream",
     "text": [
      "Iteration 1, Number of features 2\n"
     ]
    },
    {
     "name": "stderr",
     "output_type": "stream",
     "text": [
      "Training Episodes: 100%|██████████| 1750/1750 [00:03<00:00, 516.98it/s, LR=4.26e-5, Return=0.647]  \n"
     ]
    },
    {
     "name": "stdout",
     "output_type": "stream",
     "text": [
      "Iteration 2, Number of features 4\n"
     ]
    },
    {
     "name": "stderr",
     "output_type": "stream",
     "text": [
      "Training Episodes: 100%|██████████| 1500/1500 [00:03<00:00, 416.82it/s, LR=3.15e-5, Return=0.467]  \n"
     ]
    },
    {
     "name": "stdout",
     "output_type": "stream",
     "text": [
      "Iteration 3, Number of features 8\n"
     ]
    },
    {
     "name": "stderr",
     "output_type": "stream",
     "text": [
      "Training Episodes: 100%|██████████| 1375/1375 [00:04<00:00, 276.67it/s, LR=2.4e-5, Return=0.811] \n"
     ]
    },
    {
     "name": "stdout",
     "output_type": "stream",
     "text": [
      "waiting...\n"
     ]
    }
   ],
   "source": [
    "agent_class = REINFORCE.REINFORCEAgent(\n",
    "    state_space_class, action_space_class, gamma=1, lr=0.0001\n",
    ")\n",
    "errors, num_ftrs, selected_features = run_train_test(\n",
    "    X_train=X_train_class,\n",
    "    X_test=X_test_class,\n",
    "    data_test=data_test_class,\n",
    "    agent=agent_class,\n",
    "    device=device,\n",
    ")"
   ]
  },
  {
   "cell_type": "code",
   "execution_count": 191,
   "metadata": {},
   "outputs": [],
   "source": [
    "selected_features_ = ['']\n",
    "selected_features_.extend(selected_features[-1])"
   ]
  },
  {
   "cell_type": "code",
   "execution_count": 206,
   "metadata": {},
   "outputs": [
    {
     "name": "stdout",
     "output_type": "stream",
     "text": [
      "['', 'TLLOC', 'TLOC', 'LOC', 'LLOC', 'TNOS', 'NOS', 'CLOC', 'WMC', 'TNM', 'NM', 'RFC', 'TNLM', 'NLM', 'LCOM5', 'NOA', 'DIT', 'NOI', 'NOD', 'NOC', 'NOP', 'CBO']\n"
     ]
    }
   ],
   "source": [
    "print(selected_features_)"
   ]
  },
  {
   "cell_type": "code",
   "execution_count": 192,
   "metadata": {},
   "outputs": [
    {
     "data": {
      "image/png": "[encoded data removed]",
      "text/plain": [
       "<Figure size 1000x750 with 1 Axes>"
      ]
     },
     "metadata": {},
     "output_type": "display_data"
    }
   ],
   "source": [
    "# Plot\n",
    "plt.figure(figsize=(10, 7.5))\n",
    "plt.plot(num_ftrs, errors, marker='o', linestyle='-', color='b')\n",
    "plt.xlabel('Sequentially Selected Metrics')\n",
    "plt.ylabel('Sammon Error')\n",
    "# plt.title('Sammon Error vs Number of Features')\n",
    "plt.xticks(num_ftrs, selected_features_, rotation=45, ha='right')  # Map indices to feature names\n",
    "plt.grid(True)\n",
    "plt.show()"
   ]
  },
  {
   "cell_type": "code",
   "execution_count": 193,
   "metadata": {},
   "outputs": [],
   "source": [
    "def test_stability(X_train, X_test, data_test, num_iters=10):\n",
    "    state_space = X_train.shape[1]\n",
    "    action_space = X_train.shape[1]\n",
    "    device = torch.device(\"cuda\" if torch.cuda.is_available() else \"cpu\")\n",
    "    \n",
    "    all_errors = []\n",
    "    all_num_ftrs = []\n",
    "    all_selected_features = []\n",
    "    for i in range(num_iters):\n",
    "        agent = REINFORCE.REINFORCEAgent(state_space, action_space, gamma=1, lr=0.0001)\n",
    "        errors, num_ftrs, selected_features = run_train_test(\n",
    "            X_train, X_test, data_test, agent, device\n",
    "        )\n",
    "        all_errors.append(errors)\n",
    "        all_num_ftrs.append(num_ftrs)\n",
    "        all_selected_features.append(selected_features)\n",
    "\n",
    "    return all_errors, all_num_ftrs, all_selected_features"
   ]
  },
  {
   "cell_type": "code",
   "execution_count": 194,
   "metadata": {},
   "outputs": [
    {
     "name": "stdout",
     "output_type": "stream",
     "text": [
      "Iteration 0, Number of features 1\n"
     ]
    },
    {
     "name": "stderr",
     "output_type": "stream",
     "text": [
      "Training Episodes: 100%|██████████| 2500/2500 [00:03<00:00, 642.41it/s, LR=6.05e-5, Return=0.28]   \n"
     ]
    },
    {
     "name": "stdout",
     "output_type": "stream",
     "text": [
      "Iteration 1, Number of features 2\n"
     ]
    },
    {
     "name": "stderr",
     "output_type": "stream",
     "text": [
      "Training Episodes: 100%|██████████| 1750/1750 [00:02<00:00, 589.34it/s, LR=4.26e-5, Return=0.658]  \n"
     ]
    },
    {
     "name": "stdout",
     "output_type": "stream",
     "text": [
      "Iteration 2, Number of features 4\n"
     ]
    },
    {
     "name": "stderr",
     "output_type": "stream",
     "text": [
      "Training Episodes: 100%|██████████| 1500/1500 [00:04<00:00, 371.55it/s, LR=3.15e-5, Return=0.85]   \n"
     ]
    },
    {
     "name": "stdout",
     "output_type": "stream",
     "text": [
      "Iteration 3, Number of features 8\n"
     ]
    },
    {
     "name": "stderr",
     "output_type": "stream",
     "text": [
      "Training Episodes: 100%|██████████| 1375/1375 [00:04<00:00, 287.66it/s, LR=2.4e-5, Return=0.725]  \n"
     ]
    },
    {
     "name": "stdout",
     "output_type": "stream",
     "text": [
      "waiting...\n",
      "Iteration 0, Number of features 1\n"
     ]
    },
    {
     "name": "stderr",
     "output_type": "stream",
     "text": [
      "Training Episodes: 100%|██████████| 2500/2500 [00:03<00:00, 664.44it/s, LR=6.05e-5, Return=0.047]  \n"
     ]
    },
    {
     "name": "stdout",
     "output_type": "stream",
     "text": [
      "Iteration 1, Number of features 2\n"
     ]
    },
    {
     "name": "stderr",
     "output_type": "stream",
     "text": [
      "Training Episodes: 100%|██████████| 1750/1750 [00:03<00:00, 557.26it/s, LR=4.26e-5, Return=0.743]  \n"
     ]
    },
    {
     "name": "stdout",
     "output_type": "stream",
     "text": [
      "Iteration 2, Number of features 4\n"
     ]
    },
    {
     "name": "stderr",
     "output_type": "stream",
     "text": [
      "Training Episodes: 100%|██████████| 1500/1500 [00:03<00:00, 415.97it/s, LR=3.15e-5, Return=0.304] \n"
     ]
    },
    {
     "name": "stdout",
     "output_type": "stream",
     "text": [
      "Iteration 3, Number of features 8\n"
     ]
    },
    {
     "name": "stderr",
     "output_type": "stream",
     "text": [
      "Training Episodes: 100%|██████████| 1375/1375 [00:04<00:00, 276.20it/s, LR=2.4e-5, Return=0.962] \n"
     ]
    },
    {
     "name": "stdout",
     "output_type": "stream",
     "text": [
      "waiting...\n",
      "Iteration 0, Number of features 1\n"
     ]
    },
    {
     "name": "stderr",
     "output_type": "stream",
     "text": [
      "Training Episodes: 100%|██████████| 2500/2500 [00:03<00:00, 705.01it/s, LR=6.05e-5, Return=0.742]  \n"
     ]
    },
    {
     "name": "stdout",
     "output_type": "stream",
     "text": [
      "Iteration 1, Number of features 2\n"
     ]
    },
    {
     "name": "stderr",
     "output_type": "stream",
     "text": [
      "Training Episodes: 100%|██████████| 1750/1750 [00:03<00:00, 567.72it/s, LR=4.26e-5, Return=0.336]  \n"
     ]
    },
    {
     "name": "stdout",
     "output_type": "stream",
     "text": [
      "Iteration 2, Number of features 4\n"
     ]
    },
    {
     "name": "stderr",
     "output_type": "stream",
     "text": [
      "Training Episodes: 100%|██████████| 1500/1500 [00:03<00:00, 409.08it/s, LR=3.15e-5, Return=0.744] \n"
     ]
    },
    {
     "name": "stdout",
     "output_type": "stream",
     "text": [
      "Iteration 3, Number of features 8\n"
     ]
    },
    {
     "name": "stderr",
     "output_type": "stream",
     "text": [
      "Training Episodes: 100%|██████████| 1375/1375 [00:05<00:00, 273.43it/s, LR=2.4e-5, Return=0.97]   \n"
     ]
    },
    {
     "name": "stdout",
     "output_type": "stream",
     "text": [
      "waiting...\n",
      "Iteration 0, Number of features 1\n"
     ]
    },
    {
     "name": "stderr",
     "output_type": "stream",
     "text": [
      "Training Episodes: 100%|██████████| 2500/2500 [00:03<00:00, 710.70it/s, LR=6.05e-5, Return=0.00407]\n"
     ]
    },
    {
     "name": "stdout",
     "output_type": "stream",
     "text": [
      "Iteration 1, Number of features 2\n"
     ]
    },
    {
     "name": "stderr",
     "output_type": "stream",
     "text": [
      "Training Episodes: 100%|██████████| 1750/1750 [00:03<00:00, 548.72it/s, LR=4.26e-5, Return=0.0327] \n"
     ]
    },
    {
     "name": "stdout",
     "output_type": "stream",
     "text": [
      "Iteration 2, Number of features 4\n"
     ]
    },
    {
     "name": "stderr",
     "output_type": "stream",
     "text": [
      "Training Episodes: 100%|██████████| 1500/1500 [00:04<00:00, 318.61it/s, LR=3.15e-5, Return=0.749]  \n"
     ]
    },
    {
     "name": "stdout",
     "output_type": "stream",
     "text": [
      "Iteration 3, Number of features 8\n"
     ]
    },
    {
     "name": "stderr",
     "output_type": "stream",
     "text": [
      "Training Episodes: 100%|██████████| 1375/1375 [00:05<00:00, 264.88it/s, LR=2.4e-5, Return=0.899] \n"
     ]
    },
    {
     "name": "stdout",
     "output_type": "stream",
     "text": [
      "waiting...\n",
      "Iteration 0, Number of features 1\n"
     ]
    },
    {
     "name": "stderr",
     "output_type": "stream",
     "text": [
      "Training Episodes: 100%|██████████| 2500/2500 [00:03<00:00, 653.76it/s, LR=6.05e-5, Return=0.743]  \n"
     ]
    },
    {
     "name": "stdout",
     "output_type": "stream",
     "text": [
      "Iteration 1, Number of features 2\n"
     ]
    },
    {
     "name": "stderr",
     "output_type": "stream",
     "text": [
      "Training Episodes: 100%|██████████| 1750/1750 [00:03<00:00, 511.13it/s, LR=4.26e-5, Return=0.159]  \n"
     ]
    },
    {
     "name": "stdout",
     "output_type": "stream",
     "text": [
      "Iteration 2, Number of features 4\n"
     ]
    },
    {
     "name": "stderr",
     "output_type": "stream",
     "text": [
      "Training Episodes: 100%|██████████| 1500/1500 [00:04<00:00, 301.02it/s, LR=3.15e-5, Return=0.721]  \n"
     ]
    },
    {
     "name": "stdout",
     "output_type": "stream",
     "text": [
      "Iteration 3, Number of features 8\n"
     ]
    },
    {
     "name": "stderr",
     "output_type": "stream",
     "text": [
      "Training Episodes: 100%|██████████| 1375/1375 [00:05<00:00, 250.16it/s, LR=2.4e-5, Return=0.997] \n"
     ]
    },
    {
     "name": "stdout",
     "output_type": "stream",
     "text": [
      "waiting...\n",
      "Iteration 0, Number of features 1\n"
     ]
    },
    {
     "name": "stderr",
     "output_type": "stream",
     "text": [
      "Training Episodes: 100%|██████████| 2500/2500 [00:04<00:00, 549.29it/s, LR=6.05e-5, Return=0.0443] \n"
     ]
    },
    {
     "name": "stdout",
     "output_type": "stream",
     "text": [
      "Iteration 1, Number of features 2\n"
     ]
    },
    {
     "name": "stderr",
     "output_type": "stream",
     "text": [
      "Training Episodes: 100%|██████████| 1750/1750 [00:03<00:00, 506.57it/s, LR=4.26e-5, Return=0.334]  \n"
     ]
    },
    {
     "name": "stdout",
     "output_type": "stream",
     "text": [
      "Iteration 2, Number of features 4\n"
     ]
    },
    {
     "name": "stderr",
     "output_type": "stream",
     "text": [
      "Training Episodes: 100%|██████████| 1500/1500 [00:04<00:00, 370.81it/s, LR=3.15e-5, Return=0.71]   \n"
     ]
    },
    {
     "name": "stdout",
     "output_type": "stream",
     "text": [
      "Iteration 3, Number of features 8\n"
     ]
    },
    {
     "name": "stderr",
     "output_type": "stream",
     "text": [
      "Training Episodes: 100%|██████████| 1375/1375 [00:05<00:00, 248.94it/s, LR=2.4e-5, Return=0.725] \n"
     ]
    },
    {
     "name": "stdout",
     "output_type": "stream",
     "text": [
      "waiting...\n",
      "Iteration 0, Number of features 1\n"
     ]
    },
    {
     "name": "stderr",
     "output_type": "stream",
     "text": [
      "Training Episodes: 100%|██████████| 2500/2500 [00:06<00:00, 393.57it/s, LR=6.05e-5, Return=0.0054] \n"
     ]
    },
    {
     "name": "stdout",
     "output_type": "stream",
     "text": [
      "Iteration 1, Number of features 2\n"
     ]
    },
    {
     "name": "stderr",
     "output_type": "stream",
     "text": [
      "Training Episodes: 100%|██████████| 1750/1750 [00:03<00:00, 571.37it/s, LR=4.26e-5, Return=0.0452] \n"
     ]
    },
    {
     "name": "stdout",
     "output_type": "stream",
     "text": [
      "Iteration 2, Number of features 4\n"
     ]
    },
    {
     "name": "stderr",
     "output_type": "stream",
     "text": [
      "Training Episodes: 100%|██████████| 1500/1500 [00:03<00:00, 445.06it/s, LR=3.15e-5, Return=0.792]  \n"
     ]
    },
    {
     "name": "stdout",
     "output_type": "stream",
     "text": [
      "Iteration 3, Number of features 8\n"
     ]
    },
    {
     "name": "stderr",
     "output_type": "stream",
     "text": [
      "Training Episodes: 100%|██████████| 1375/1375 [00:05<00:00, 243.72it/s, LR=2.4e-5, Return=0.9]    \n"
     ]
    },
    {
     "name": "stdout",
     "output_type": "stream",
     "text": [
      "waiting...\n",
      "Iteration 0, Number of features 1\n"
     ]
    },
    {
     "name": "stderr",
     "output_type": "stream",
     "text": [
      "Training Episodes: 100%|██████████| 2500/2500 [00:04<00:00, 587.73it/s, LR=6.05e-5, Return=0.133]  \n"
     ]
    },
    {
     "name": "stdout",
     "output_type": "stream",
     "text": [
      "Iteration 1, Number of features 2\n"
     ]
    },
    {
     "name": "stderr",
     "output_type": "stream",
     "text": [
      "Training Episodes: 100%|██████████| 1750/1750 [00:03<00:00, 516.94it/s, LR=4.26e-5, Return=0.743]  \n"
     ]
    },
    {
     "name": "stdout",
     "output_type": "stream",
     "text": [
      "Iteration 2, Number of features 4\n"
     ]
    },
    {
     "name": "stderr",
     "output_type": "stream",
     "text": [
      "Training Episodes: 100%|██████████| 1500/1500 [00:03<00:00, 377.13it/s, LR=3.15e-5, Return=0.658]  \n"
     ]
    },
    {
     "name": "stdout",
     "output_type": "stream",
     "text": [
      "Iteration 3, Number of features 8\n"
     ]
    },
    {
     "name": "stderr",
     "output_type": "stream",
     "text": [
      "Training Episodes: 100%|██████████| 1375/1375 [00:05<00:00, 231.86it/s, LR=2.4e-5, Return=0.83]  \n"
     ]
    },
    {
     "name": "stdout",
     "output_type": "stream",
     "text": [
      "waiting...\n",
      "Iteration 0, Number of features 1\n"
     ]
    },
    {
     "name": "stderr",
     "output_type": "stream",
     "text": [
      "Training Episodes: 100%|██████████| 2500/2500 [00:04<00:00, 580.18it/s, LR=6.05e-5, Return=0.743]  \n"
     ]
    },
    {
     "name": "stdout",
     "output_type": "stream",
     "text": [
      "Iteration 1, Number of features 2\n"
     ]
    },
    {
     "name": "stderr",
     "output_type": "stream",
     "text": [
      "Training Episodes: 100%|██████████| 1750/1750 [00:03<00:00, 492.13it/s, LR=4.26e-5, Return=0.28]   \n"
     ]
    },
    {
     "name": "stdout",
     "output_type": "stream",
     "text": [
      "Iteration 2, Number of features 4\n"
     ]
    },
    {
     "name": "stderr",
     "output_type": "stream",
     "text": [
      "Training Episodes: 100%|██████████| 1500/1500 [00:04<00:00, 372.10it/s, LR=3.15e-5, Return=0.336] \n"
     ]
    },
    {
     "name": "stdout",
     "output_type": "stream",
     "text": [
      "Iteration 3, Number of features 8\n"
     ]
    },
    {
     "name": "stderr",
     "output_type": "stream",
     "text": [
      "Training Episodes: 100%|██████████| 1375/1375 [00:05<00:00, 247.70it/s, LR=2.4e-5, Return=0.96]  \n"
     ]
    },
    {
     "name": "stdout",
     "output_type": "stream",
     "text": [
      "waiting...\n",
      "Iteration 0, Number of features 1\n"
     ]
    },
    {
     "name": "stderr",
     "output_type": "stream",
     "text": [
      "Training Episodes: 100%|██████████| 2500/2500 [00:03<00:00, 639.11it/s, LR=6.05e-5, Return=0.331]  \n"
     ]
    },
    {
     "name": "stdout",
     "output_type": "stream",
     "text": [
      "Iteration 1, Number of features 2\n"
     ]
    },
    {
     "name": "stderr",
     "output_type": "stream",
     "text": [
      "Training Episodes: 100%|██████████| 1750/1750 [00:03<00:00, 461.07it/s, LR=4.26e-5, Return=0.64]   \n"
     ]
    },
    {
     "name": "stdout",
     "output_type": "stream",
     "text": [
      "Iteration 2, Number of features 4\n"
     ]
    },
    {
     "name": "stderr",
     "output_type": "stream",
     "text": [
      "Training Episodes: 100%|██████████| 1500/1500 [00:05<00:00, 280.28it/s, LR=3.15e-5, Return=0.748]  \n"
     ]
    },
    {
     "name": "stdout",
     "output_type": "stream",
     "text": [
      "Iteration 3, Number of features 8\n"
     ]
    },
    {
     "name": "stderr",
     "output_type": "stream",
     "text": [
      "Training Episodes: 100%|██████████| 1375/1375 [00:05<00:00, 251.51it/s, LR=2.4e-5, Return=0.919]  \n"
     ]
    },
    {
     "name": "stdout",
     "output_type": "stream",
     "text": [
      "waiting...\n"
     ]
    }
   ],
   "source": [
    "all_errors, all_num_ftrs, all_selected_features = test_stability(X_train_class, X_test_class, data_test_class, num_iters=10)"
   ]
  },
  {
   "cell_type": "code",
   "execution_count": 195,
   "metadata": {},
   "outputs": [
    {
     "data": {
      "text/plain": [
       "(array([1.00000000e+00, 2.57124478e-01, 9.75449645e-02, 4.31939462e-02,\n",
       "        1.85016886e-02, 7.79003105e-03, 3.19280335e-03, 6.63314552e-04,\n",
       "        2.65971245e-04, 9.46305014e-05, 3.24146997e-05, 1.60601882e-05,\n",
       "        6.02744665e-06, 1.14528182e-06, 5.72780123e-08, 3.72281631e-08,\n",
       "        2.35848481e-08, 1.38335292e-08, 7.04180356e-09, 2.36596298e-09,\n",
       "        5.91032200e-10, 1.99403505e-20]),\n",
       " array([1.00000000e+00, 3.63028417e-01, 1.32897849e-01, 6.60057136e-02,\n",
       "        1.85016886e-02, 1.05866600e-02, 3.67713718e-03, 6.63314552e-04,\n",
       "        2.65971245e-04, 1.01616929e-04, 3.24146997e-05, 1.66208819e-05,\n",
       "        6.37066061e-06, 2.60750098e-06, 5.72780123e-08, 4.72225426e-08,\n",
       "        3.83307719e-08, 2.95432942e-08, 1.81680521e-08, 9.71084062e-09,\n",
       "        4.75080787e-09, 1.99403505e-20]),\n",
       " array([1.00000000e+00, 2.68106199e-01, 1.25682132e-01, 5.46321257e-02,\n",
       "        1.85016886e-02, 8.07619947e-03, 3.58027041e-03, 6.63314552e-04,\n",
       "        2.65971245e-04, 9.74250724e-05, 3.24146997e-05, 1.62844657e-05,\n",
       "        6.09608944e-06, 1.41471339e-06, 5.72780123e-08, 4.38496302e-08,\n",
       "        3.10886121e-08, 2.11195649e-08, 1.15520979e-08, 4.54082391e-09,\n",
       "        1.62077498e-09, 1.99403505e-20]))"
      ]
     },
     "execution_count": 195,
     "metadata": {},
     "output_type": "execute_result"
    }
   ],
   "source": [
    "min_errors = np.min(all_errors, axis=0)\n",
    "max_errors = np.max(all_errors, axis=0)\n",
    "avg_errors = np.mean(all_errors, axis=0)\n",
    "min_errors, max_errors, avg_errors"
   ]
  },
  {
   "cell_type": "code",
   "execution_count": 196,
   "metadata": {},
   "outputs": [
    {
     "data": {
      "text/html": [
       "<div>\n",
       "<style scoped>\n",
       "    .dataframe tbody tr th:only-of-type {\n",
       "        vertical-align: middle;\n",
       "    }\n",
       "\n",
       "    .dataframe tbody tr th {\n",
       "        vertical-align: top;\n",
       "    }\n",
       "\n",
       "    .dataframe thead th {\n",
       "        text-align: right;\n",
       "    }\n",
       "</style>\n",
       "<table border=\"1\" class=\"dataframe\">\n",
       "  <thead>\n",
       "    <tr style=\"text-align: right;\">\n",
       "      <th></th>\n",
       "      <th>number_of_features</th>\n",
       "      <th>min_error</th>\n",
       "      <th>max_error</th>\n",
       "      <th>avg_error</th>\n",
       "    </tr>\n",
       "  </thead>\n",
       "  <tbody>\n",
       "    <tr>\n",
       "      <th>0</th>\n",
       "      <td>0</td>\n",
       "      <td>1.000000e+00</td>\n",
       "      <td>1.000000e+00</td>\n",
       "      <td>1.000000e+00</td>\n",
       "    </tr>\n",
       "    <tr>\n",
       "      <th>1</th>\n",
       "      <td>1</td>\n",
       "      <td>2.571245e-01</td>\n",
       "      <td>3.630284e-01</td>\n",
       "      <td>2.681062e-01</td>\n",
       "    </tr>\n",
       "    <tr>\n",
       "      <th>2</th>\n",
       "      <td>2</td>\n",
       "      <td>9.754496e-02</td>\n",
       "      <td>1.328978e-01</td>\n",
       "      <td>1.256821e-01</td>\n",
       "    </tr>\n",
       "    <tr>\n",
       "      <th>3</th>\n",
       "      <td>3</td>\n",
       "      <td>4.319395e-02</td>\n",
       "      <td>6.600571e-02</td>\n",
       "      <td>5.463213e-02</td>\n",
       "    </tr>\n",
       "    <tr>\n",
       "      <th>4</th>\n",
       "      <td>4</td>\n",
       "      <td>1.850169e-02</td>\n",
       "      <td>1.850169e-02</td>\n",
       "      <td>1.850169e-02</td>\n",
       "    </tr>\n",
       "    <tr>\n",
       "      <th>5</th>\n",
       "      <td>5</td>\n",
       "      <td>7.790031e-03</td>\n",
       "      <td>1.058666e-02</td>\n",
       "      <td>8.076199e-03</td>\n",
       "    </tr>\n",
       "    <tr>\n",
       "      <th>6</th>\n",
       "      <td>6</td>\n",
       "      <td>3.192803e-03</td>\n",
       "      <td>3.677137e-03</td>\n",
       "      <td>3.580270e-03</td>\n",
       "    </tr>\n",
       "    <tr>\n",
       "      <th>7</th>\n",
       "      <td>7</td>\n",
       "      <td>6.633146e-04</td>\n",
       "      <td>6.633146e-04</td>\n",
       "      <td>6.633146e-04</td>\n",
       "    </tr>\n",
       "    <tr>\n",
       "      <th>8</th>\n",
       "      <td>8</td>\n",
       "      <td>2.659712e-04</td>\n",
       "      <td>2.659712e-04</td>\n",
       "      <td>2.659712e-04</td>\n",
       "    </tr>\n",
       "    <tr>\n",
       "      <th>9</th>\n",
       "      <td>9</td>\n",
       "      <td>9.463050e-05</td>\n",
       "      <td>1.016169e-04</td>\n",
       "      <td>9.742507e-05</td>\n",
       "    </tr>\n",
       "    <tr>\n",
       "      <th>10</th>\n",
       "      <td>10</td>\n",
       "      <td>3.241470e-05</td>\n",
       "      <td>3.241470e-05</td>\n",
       "      <td>3.241470e-05</td>\n",
       "    </tr>\n",
       "    <tr>\n",
       "      <th>11</th>\n",
       "      <td>11</td>\n",
       "      <td>1.606019e-05</td>\n",
       "      <td>1.662088e-05</td>\n",
       "      <td>1.628447e-05</td>\n",
       "    </tr>\n",
       "    <tr>\n",
       "      <th>12</th>\n",
       "      <td>12</td>\n",
       "      <td>6.027447e-06</td>\n",
       "      <td>6.370661e-06</td>\n",
       "      <td>6.096089e-06</td>\n",
       "    </tr>\n",
       "    <tr>\n",
       "      <th>13</th>\n",
       "      <td>13</td>\n",
       "      <td>1.145282e-06</td>\n",
       "      <td>2.607501e-06</td>\n",
       "      <td>1.414713e-06</td>\n",
       "    </tr>\n",
       "    <tr>\n",
       "      <th>14</th>\n",
       "      <td>14</td>\n",
       "      <td>5.727801e-08</td>\n",
       "      <td>5.727801e-08</td>\n",
       "      <td>5.727801e-08</td>\n",
       "    </tr>\n",
       "    <tr>\n",
       "      <th>15</th>\n",
       "      <td>15</td>\n",
       "      <td>3.722816e-08</td>\n",
       "      <td>4.722254e-08</td>\n",
       "      <td>4.384963e-08</td>\n",
       "    </tr>\n",
       "    <tr>\n",
       "      <th>16</th>\n",
       "      <td>16</td>\n",
       "      <td>2.358485e-08</td>\n",
       "      <td>3.833077e-08</td>\n",
       "      <td>3.108861e-08</td>\n",
       "    </tr>\n",
       "    <tr>\n",
       "      <th>17</th>\n",
       "      <td>17</td>\n",
       "      <td>1.383353e-08</td>\n",
       "      <td>2.954329e-08</td>\n",
       "      <td>2.111956e-08</td>\n",
       "    </tr>\n",
       "    <tr>\n",
       "      <th>18</th>\n",
       "      <td>18</td>\n",
       "      <td>7.041804e-09</td>\n",
       "      <td>1.816805e-08</td>\n",
       "      <td>1.155210e-08</td>\n",
       "    </tr>\n",
       "    <tr>\n",
       "      <th>19</th>\n",
       "      <td>19</td>\n",
       "      <td>2.365963e-09</td>\n",
       "      <td>9.710841e-09</td>\n",
       "      <td>4.540824e-09</td>\n",
       "    </tr>\n",
       "    <tr>\n",
       "      <th>20</th>\n",
       "      <td>20</td>\n",
       "      <td>5.910322e-10</td>\n",
       "      <td>4.750808e-09</td>\n",
       "      <td>1.620775e-09</td>\n",
       "    </tr>\n",
       "    <tr>\n",
       "      <th>21</th>\n",
       "      <td>21</td>\n",
       "      <td>1.994035e-20</td>\n",
       "      <td>1.994035e-20</td>\n",
       "      <td>1.994035e-20</td>\n",
       "    </tr>\n",
       "  </tbody>\n",
       "</table>\n",
       "</div>"
      ],
      "text/plain": [
       "    number_of_features     min_error     max_error     avg_error\n",
       "0                    0  1.000000e+00  1.000000e+00  1.000000e+00\n",
       "1                    1  2.571245e-01  3.630284e-01  2.681062e-01\n",
       "2                    2  9.754496e-02  1.328978e-01  1.256821e-01\n",
       "3                    3  4.319395e-02  6.600571e-02  5.463213e-02\n",
       "4                    4  1.850169e-02  1.850169e-02  1.850169e-02\n",
       "5                    5  7.790031e-03  1.058666e-02  8.076199e-03\n",
       "6                    6  3.192803e-03  3.677137e-03  3.580270e-03\n",
       "7                    7  6.633146e-04  6.633146e-04  6.633146e-04\n",
       "8                    8  2.659712e-04  2.659712e-04  2.659712e-04\n",
       "9                    9  9.463050e-05  1.016169e-04  9.742507e-05\n",
       "10                  10  3.241470e-05  3.241470e-05  3.241470e-05\n",
       "11                  11  1.606019e-05  1.662088e-05  1.628447e-05\n",
       "12                  12  6.027447e-06  6.370661e-06  6.096089e-06\n",
       "13                  13  1.145282e-06  2.607501e-06  1.414713e-06\n",
       "14                  14  5.727801e-08  5.727801e-08  5.727801e-08\n",
       "15                  15  3.722816e-08  4.722254e-08  4.384963e-08\n",
       "16                  16  2.358485e-08  3.833077e-08  3.108861e-08\n",
       "17                  17  1.383353e-08  2.954329e-08  2.111956e-08\n",
       "18                  18  7.041804e-09  1.816805e-08  1.155210e-08\n",
       "19                  19  2.365963e-09  9.710841e-09  4.540824e-09\n",
       "20                  20  5.910322e-10  4.750808e-09  1.620775e-09\n",
       "21                  21  1.994035e-20  1.994035e-20  1.994035e-20"
      ]
     },
     "execution_count": 196,
     "metadata": {},
     "output_type": "execute_result"
    }
   ],
   "source": [
    "df_reinforce_class = pd.DataFrame({\n",
    "    \"number_of_features\": all_num_ftrs[0],\n",
    "    \"min_error\": min_errors,\n",
    "    \"max_error\": max_errors,\n",
    "    \"avg_error\": avg_errors\n",
    "})\n",
    "df_reinforce_class"
   ]
  },
  {
   "cell_type": "code",
   "execution_count": 197,
   "metadata": {},
   "outputs": [],
   "source": [
    "df_reinforce_class.to_csv(\"../data/results/REINFORCE_class.csv\", index=False)"
   ]
  },
  {
   "cell_type": "code",
   "execution_count": 198,
   "metadata": {},
   "outputs": [
    {
     "data": {
      "image/png": "[encoded data removed]",
      "text/plain": [
       "<Figure size 1000x750 with 1 Axes>"
      ]
     },
     "metadata": {},
     "output_type": "display_data"
    }
   ],
   "source": [
    "# Plot\n",
    "plt.figure(figsize=(10, 7.5))\n",
    "plt.plot(all_num_ftrs[0], min_errors, marker='o', label='Minimum Error')\n",
    "plt.plot(all_num_ftrs[0], max_errors, marker='o', label='Maximum Error')\n",
    "plt.plot(all_num_ftrs[0], avg_errors, marker='o', label='Average Error')\n",
    "\n",
    "# Add plot details\n",
    "plt.xlabel('Number of Metrics')\n",
    "plt.ylabel('Sammon Error')\n",
    "# plt.title('Model Stability across Retrainings')\n",
    "plt.xticks(all_num_ftrs[0])  # Ensure x-axis ticks are integers from all_num_ftrs\n",
    "plt.legend()\n",
    "plt.grid(True)\n",
    "plt.show()"
   ]
  },
  {
   "cell_type": "code",
   "execution_count": 199,
   "metadata": {},
   "outputs": [
    {
     "name": "stdout",
     "output_type": "stream",
     "text": [
      "Iteration 0, Number of features 1\n"
     ]
    },
    {
     "name": "stderr",
     "output_type": "stream",
     "text": [
      "Training Episodes: 100%|██████████| 2500/2500 [00:03<00:00, 804.42it/s, LR=6.05e-5, Return=0.103]   \n"
     ]
    },
    {
     "name": "stdout",
     "output_type": "stream",
     "text": [
      "Iteration 1, Number of features 2\n"
     ]
    },
    {
     "name": "stderr",
     "output_type": "stream",
     "text": [
      "Training Episodes: 100%|██████████| 1750/1750 [00:02<00:00, 764.86it/s, LR=4.26e-5, Return=0.0274] \n"
     ]
    },
    {
     "name": "stdout",
     "output_type": "stream",
     "text": [
      "Iteration 2, Number of features 4\n"
     ]
    },
    {
     "name": "stderr",
     "output_type": "stream",
     "text": [
      "Training Episodes: 100%|██████████| 1500/1500 [00:02<00:00, 545.35it/s, LR=3.15e-5, Return=0.188] \n"
     ]
    },
    {
     "name": "stdout",
     "output_type": "stream",
     "text": [
      "Iteration 3, Number of features 8\n"
     ]
    },
    {
     "name": "stderr",
     "output_type": "stream",
     "text": [
      "Training Episodes: 100%|██████████| 1375/1375 [00:04<00:00, 332.86it/s, LR=2.4e-5, Return=0.238]  \n"
     ]
    },
    {
     "name": "stdout",
     "output_type": "stream",
     "text": [
      "waiting...\n",
      "Iteration 0, Number of features 1\n"
     ]
    },
    {
     "name": "stderr",
     "output_type": "stream",
     "text": [
      "Training Episodes: 100%|██████████| 2500/2500 [00:02<00:00, 878.64it/s, LR=6.05e-5, Return=0.0293]  \n"
     ]
    },
    {
     "name": "stdout",
     "output_type": "stream",
     "text": [
      "Iteration 1, Number of features 2\n"
     ]
    },
    {
     "name": "stderr",
     "output_type": "stream",
     "text": [
      "Training Episodes: 100%|██████████| 1750/1750 [00:02<00:00, 729.52it/s, LR=4.26e-5, Return=0.103]  \n"
     ]
    },
    {
     "name": "stdout",
     "output_type": "stream",
     "text": [
      "Iteration 2, Number of features 4\n"
     ]
    },
    {
     "name": "stderr",
     "output_type": "stream",
     "text": [
      "Training Episodes: 100%|██████████| 1500/1500 [00:02<00:00, 509.20it/s, LR=3.15e-5, Return=0.102] \n"
     ]
    },
    {
     "name": "stdout",
     "output_type": "stream",
     "text": [
      "Iteration 3, Number of features 8\n"
     ]
    },
    {
     "name": "stderr",
     "output_type": "stream",
     "text": [
      "Training Episodes: 100%|██████████| 1375/1375 [00:04<00:00, 327.39it/s, LR=2.4e-5, Return=0.998] \n"
     ]
    },
    {
     "name": "stdout",
     "output_type": "stream",
     "text": [
      "waiting...\n",
      "Iteration 0, Number of features 1\n"
     ]
    },
    {
     "name": "stderr",
     "output_type": "stream",
     "text": [
      "Training Episodes: 100%|██████████| 2500/2500 [00:03<00:00, 826.38it/s, LR=6.05e-5, Return=0.987]   \n"
     ]
    },
    {
     "name": "stdout",
     "output_type": "stream",
     "text": [
      "Iteration 1, Number of features 2\n"
     ]
    },
    {
     "name": "stderr",
     "output_type": "stream",
     "text": [
      "Training Episodes: 100%|██████████| 1750/1750 [00:02<00:00, 587.62it/s, LR=4.26e-5, Return=0.0678] \n"
     ]
    },
    {
     "name": "stdout",
     "output_type": "stream",
     "text": [
      "Iteration 2, Number of features 4\n"
     ]
    },
    {
     "name": "stderr",
     "output_type": "stream",
     "text": [
      "Training Episodes: 100%|██████████| 1500/1500 [00:03<00:00, 413.71it/s, LR=3.15e-5, Return=0.295] \n"
     ]
    },
    {
     "name": "stdout",
     "output_type": "stream",
     "text": [
      "Iteration 3, Number of features 8\n"
     ]
    },
    {
     "name": "stderr",
     "output_type": "stream",
     "text": [
      "Training Episodes: 100%|██████████| 1375/1375 [00:04<00:00, 300.63it/s, LR=2.4e-5, Return=0.311] \n"
     ]
    },
    {
     "name": "stdout",
     "output_type": "stream",
     "text": [
      "waiting...\n",
      "Iteration 0, Number of features 1\n"
     ]
    },
    {
     "name": "stderr",
     "output_type": "stream",
     "text": [
      "Training Episodes: 100%|██████████| 2500/2500 [00:03<00:00, 791.22it/s, LR=6.05e-5, Return=0.0293]  \n"
     ]
    },
    {
     "name": "stdout",
     "output_type": "stream",
     "text": [
      "Iteration 1, Number of features 2\n"
     ]
    },
    {
     "name": "stderr",
     "output_type": "stream",
     "text": [
      "Training Episodes: 100%|██████████| 1750/1750 [00:02<00:00, 646.84it/s, LR=4.26e-5, Return=0.0684] \n"
     ]
    },
    {
     "name": "stdout",
     "output_type": "stream",
     "text": [
      "Iteration 2, Number of features 4\n"
     ]
    },
    {
     "name": "stderr",
     "output_type": "stream",
     "text": [
      "Training Episodes: 100%|██████████| 1500/1500 [00:03<00:00, 455.25it/s, LR=3.15e-5, Return=0.287] \n"
     ]
    },
    {
     "name": "stdout",
     "output_type": "stream",
     "text": [
      "Iteration 3, Number of features 8\n"
     ]
    },
    {
     "name": "stderr",
     "output_type": "stream",
     "text": [
      "Training Episodes: 100%|██████████| 1375/1375 [00:04<00:00, 314.41it/s, LR=2.4e-5, Return=0.12]  \n"
     ]
    },
    {
     "name": "stdout",
     "output_type": "stream",
     "text": [
      "waiting...\n",
      "Iteration 0, Number of features 1\n"
     ]
    },
    {
     "name": "stderr",
     "output_type": "stream",
     "text": [
      "Training Episodes: 100%|██████████| 2500/2500 [00:03<00:00, 784.31it/s, LR=6.05e-5, Return=0.0554]  \n"
     ]
    },
    {
     "name": "stdout",
     "output_type": "stream",
     "text": [
      "Iteration 1, Number of features 2\n"
     ]
    },
    {
     "name": "stderr",
     "output_type": "stream",
     "text": [
      "Training Episodes: 100%|██████████| 1750/1750 [00:02<00:00, 641.24it/s, LR=4.26e-5, Return=0.177]  \n"
     ]
    },
    {
     "name": "stdout",
     "output_type": "stream",
     "text": [
      "Iteration 2, Number of features 4\n"
     ]
    },
    {
     "name": "stderr",
     "output_type": "stream",
     "text": [
      "Training Episodes: 100%|██████████| 1500/1500 [00:03<00:00, 404.44it/s, LR=3.15e-5, Return=0.101] \n"
     ]
    },
    {
     "name": "stdout",
     "output_type": "stream",
     "text": [
      "Iteration 3, Number of features 8\n"
     ]
    },
    {
     "name": "stderr",
     "output_type": "stream",
     "text": [
      "Training Episodes: 100%|██████████| 1375/1375 [00:04<00:00, 284.90it/s, LR=2.4e-5, Return=0.991]  \n"
     ]
    },
    {
     "name": "stdout",
     "output_type": "stream",
     "text": [
      "waiting...\n",
      "Iteration 0, Number of features 1\n"
     ]
    },
    {
     "name": "stderr",
     "output_type": "stream",
     "text": [
      "Training Episodes: 100%|██████████| 2500/2500 [00:03<00:00, 749.48it/s, LR=6.05e-5, Return=0.278]   \n"
     ]
    },
    {
     "name": "stdout",
     "output_type": "stream",
     "text": [
      "Iteration 1, Number of features 2\n"
     ]
    },
    {
     "name": "stderr",
     "output_type": "stream",
     "text": [
      "Training Episodes: 100%|██████████| 1750/1750 [00:03<00:00, 571.06it/s, LR=4.26e-5, Return=0.0343] \n"
     ]
    },
    {
     "name": "stdout",
     "output_type": "stream",
     "text": [
      "Iteration 2, Number of features 4\n"
     ]
    },
    {
     "name": "stderr",
     "output_type": "stream",
     "text": [
      "Training Episodes: 100%|██████████| 1500/1500 [00:03<00:00, 438.71it/s, LR=3.15e-5, Return=0.171] \n"
     ]
    },
    {
     "name": "stdout",
     "output_type": "stream",
     "text": [
      "Iteration 3, Number of features 8\n"
     ]
    },
    {
     "name": "stderr",
     "output_type": "stream",
     "text": [
      "Training Episodes: 100%|██████████| 1375/1375 [00:04<00:00, 306.39it/s, LR=2.4e-5, Return=0.993]  \n"
     ]
    },
    {
     "name": "stdout",
     "output_type": "stream",
     "text": [
      "waiting...\n",
      "Iteration 0, Number of features 1\n"
     ]
    },
    {
     "name": "stderr",
     "output_type": "stream",
     "text": [
      "Training Episodes: 100%|██████████| 2500/2500 [00:03<00:00, 787.18it/s, LR=6.05e-5, Return=0.0333]  \n"
     ]
    },
    {
     "name": "stdout",
     "output_type": "stream",
     "text": [
      "Iteration 1, Number of features 2\n"
     ]
    },
    {
     "name": "stderr",
     "output_type": "stream",
     "text": [
      "Training Episodes: 100%|██████████| 1750/1750 [00:03<00:00, 577.31it/s, LR=4.26e-5, Return=0.0568] \n"
     ]
    },
    {
     "name": "stdout",
     "output_type": "stream",
     "text": [
      "Iteration 2, Number of features 4\n"
     ]
    },
    {
     "name": "stderr",
     "output_type": "stream",
     "text": [
      "Training Episodes: 100%|██████████| 1500/1500 [00:03<00:00, 452.59it/s, LR=3.15e-5, Return=0.0942]\n"
     ]
    },
    {
     "name": "stdout",
     "output_type": "stream",
     "text": [
      "Iteration 3, Number of features 8\n"
     ]
    },
    {
     "name": "stderr",
     "output_type": "stream",
     "text": [
      "Training Episodes: 100%|██████████| 1375/1375 [00:04<00:00, 300.23it/s, LR=2.4e-5, Return=0.205]  \n"
     ]
    },
    {
     "name": "stdout",
     "output_type": "stream",
     "text": [
      "waiting...\n",
      "Iteration 0, Number of features 1\n"
     ]
    },
    {
     "name": "stderr",
     "output_type": "stream",
     "text": [
      "Training Episodes: 100%|██████████| 2500/2500 [00:03<00:00, 751.62it/s, LR=6.05e-5, Return=0.0554]  \n"
     ]
    },
    {
     "name": "stdout",
     "output_type": "stream",
     "text": [
      "Iteration 1, Number of features 2\n"
     ]
    },
    {
     "name": "stderr",
     "output_type": "stream",
     "text": [
      "Training Episodes: 100%|██████████| 1750/1750 [00:02<00:00, 619.41it/s, LR=4.26e-5, Return=0.103]  \n"
     ]
    },
    {
     "name": "stdout",
     "output_type": "stream",
     "text": [
      "Iteration 2, Number of features 4\n"
     ]
    },
    {
     "name": "stderr",
     "output_type": "stream",
     "text": [
      "Training Episodes: 100%|██████████| 1500/1500 [00:03<00:00, 431.84it/s, LR=3.15e-5, Return=0.357] \n"
     ]
    },
    {
     "name": "stdout",
     "output_type": "stream",
     "text": [
      "Iteration 3, Number of features 8\n"
     ]
    },
    {
     "name": "stderr",
     "output_type": "stream",
     "text": [
      "Training Episodes: 100%|██████████| 1375/1375 [00:04<00:00, 307.67it/s, LR=2.4e-5, Return=0.221]  \n"
     ]
    },
    {
     "name": "stdout",
     "output_type": "stream",
     "text": [
      "waiting...\n",
      "Iteration 0, Number of features 1\n"
     ]
    },
    {
     "name": "stderr",
     "output_type": "stream",
     "text": [
      "Training Episodes: 100%|██████████| 2500/2500 [00:03<00:00, 784.44it/s, LR=6.05e-5, Return=0.00194] \n"
     ]
    },
    {
     "name": "stdout",
     "output_type": "stream",
     "text": [
      "Iteration 1, Number of features 2\n"
     ]
    },
    {
     "name": "stderr",
     "output_type": "stream",
     "text": [
      "Training Episodes: 100%|██████████| 1750/1750 [00:03<00:00, 475.95it/s, LR=4.26e-5, Return=0.081]  \n"
     ]
    },
    {
     "name": "stdout",
     "output_type": "stream",
     "text": [
      "Iteration 2, Number of features 4\n"
     ]
    },
    {
     "name": "stderr",
     "output_type": "stream",
     "text": [
      "Training Episodes: 100%|██████████| 1500/1500 [00:03<00:00, 408.80it/s, LR=3.15e-5, Return=0.99]  \n"
     ]
    },
    {
     "name": "stdout",
     "output_type": "stream",
     "text": [
      "Iteration 3, Number of features 8\n"
     ]
    },
    {
     "name": "stderr",
     "output_type": "stream",
     "text": [
      "Training Episodes: 100%|██████████| 1375/1375 [00:04<00:00, 289.62it/s, LR=2.4e-5, Return=0.998] \n"
     ]
    },
    {
     "name": "stdout",
     "output_type": "stream",
     "text": [
      "waiting...\n",
      "Iteration 0, Number of features 1\n"
     ]
    },
    {
     "name": "stderr",
     "output_type": "stream",
     "text": [
      "Training Episodes: 100%|██████████| 2500/2500 [00:03<00:00, 817.14it/s, LR=6.05e-5, Return=0.0293]  \n"
     ]
    },
    {
     "name": "stdout",
     "output_type": "stream",
     "text": [
      "Iteration 1, Number of features 2\n"
     ]
    },
    {
     "name": "stderr",
     "output_type": "stream",
     "text": [
      "Training Episodes: 100%|██████████| 1750/1750 [00:03<00:00, 486.70it/s, LR=4.26e-5, Return=0.279]  \n"
     ]
    },
    {
     "name": "stdout",
     "output_type": "stream",
     "text": [
      "Iteration 2, Number of features 4\n"
     ]
    },
    {
     "name": "stderr",
     "output_type": "stream",
     "text": [
      "Training Episodes: 100%|██████████| 1500/1500 [00:03<00:00, 411.80it/s, LR=3.15e-5, Return=0.365] \n"
     ]
    },
    {
     "name": "stdout",
     "output_type": "stream",
     "text": [
      "Iteration 3, Number of features 8\n"
     ]
    },
    {
     "name": "stderr",
     "output_type": "stream",
     "text": [
      "Training Episodes: 100%|██████████| 1375/1375 [00:04<00:00, 304.75it/s, LR=2.4e-5, Return=0.993] \n"
     ]
    },
    {
     "name": "stdout",
     "output_type": "stream",
     "text": [
      "waiting...\n"
     ]
    }
   ],
   "source": [
    "all_errors_m, all_num_ftrs_m, all_selected_features_m = test_stability(X_train_method, X_test_method, data_test_method, num_iters=10)"
   ]
  },
  {
   "cell_type": "code",
   "execution_count": 200,
   "metadata": {},
   "outputs": [
    {
     "name": "stdout",
     "output_type": "stream",
     "text": [
      "['TLOC', 'TLLOC', 'LOC', 'LLOC', 'NOS', 'TNOS', 'CLOC', 'WMC', 'TNM', 'NM', 'RFC', 'TNLM', 'NLM', 'LCOM5', 'CBO', 'NOD', 'DIT', 'NOA', 'NOP', 'NOC', 'NOI']\n",
      "[1.0, 0.25777669026353045, 0.13289784889806994, 0.043274685773930927, 0.018501688577998953, 0.0078062948581504085, 0.0036771371790677654, 0.000663314552224087, 0.0002659712453194879, 9.463050136472389e-05, 3.2414699660032376e-05, 1.6060188221672594e-05, 6.027446646989955e-06, 1.1452818178649029e-06, 5.727801231650618e-08, 3.722816305426973e-08, 2.358484810355988e-08, 1.3833529223584074e-08, 7.041803559078737e-09, 4.637668221422797e-09, 3.4181870390809513e-09, 1.99403504986271e-20]\n"
     ]
    }
   ],
   "source": [
    "print(all_selected_features[0][-1])\n",
    "print([float(error) for error in all_errors[0]])"
   ]
  },
  {
   "cell_type": "code",
   "execution_count": 201,
   "metadata": {},
   "outputs": [
    {
     "name": "stdout",
     "output_type": "stream",
     "text": [
      "['HEFF', 'HVOL', 'MI', 'HCPL', 'HTRP', 'LOC', 'TLOC', 'TLLOC', 'LLOC', 'HPL', 'TNOS', 'NOS', 'TCLOC', 'HPV', 'DLOC', 'CLOC', 'McCC', 'NOI', 'NUMPAR', 'HDIF', 'HNDB']\n",
      "[1.0, 0.011813886698870594, 0.009016885786702365, 0.0019596797875874477, 0.0017440825400036667, 0.0017211518924381128, 0.0008639300895711715, 0.0003956875744888608, 0.00023038280405010263, 0.00015375953289815947, 0.00014554414849045696, 0.00013087085072888867, 0.00011941868095530517, 5.1504648019695304e-05, 4.9681660390780385e-05, 1.2225516802819439e-05, 5.155867740509122e-07, 4.071580721459272e-07, 4.0355293476836194e-07, 9.435473991276468e-11, 4.170330986079913e-18, 1.3786943288452742e-20]\n"
     ]
    }
   ],
   "source": [
    "print(all_selected_features_m[0][-1])\n",
    "print([float(error) for error in all_errors_m[0]])"
   ]
  },
  {
   "cell_type": "code",
   "execution_count": 202,
   "metadata": {},
   "outputs": [
    {
     "data": {
      "text/plain": [
       "(array([1.00000000e+00, 1.18138867e-02, 9.01688579e-03, 1.95967979e-03,\n",
       "        1.74408254e-03, 1.72115189e-03, 8.59628964e-04, 3.95687574e-04,\n",
       "        2.30382804e-04, 1.53759533e-04, 1.45544148e-04, 6.95341815e-05,\n",
       "        5.80399487e-05, 5.00693742e-05, 1.31887714e-05, 2.05304730e-06,\n",
       "        5.15586774e-07, 7.21470572e-08, 3.00812035e-10, 9.43547399e-11,\n",
       "        4.17033099e-18, 1.37869433e-20]),\n",
       " array([1.00000000e+00, 1.18138867e-02, 9.01688579e-03, 8.46290479e-03,\n",
       "        1.92779415e-03, 1.72115189e-03, 8.63930090e-04, 3.95687574e-04,\n",
       "        3.81315531e-04, 2.22450800e-04, 1.45544148e-04, 1.41953698e-04,\n",
       "        1.28218164e-04, 1.16652675e-04, 4.96816604e-05, 1.28578336e-05,\n",
       "        5.15586774e-07, 4.07158072e-07, 4.07157715e-07, 3.00777918e-10,\n",
       "        1.41241281e-10, 1.37869433e-20]),\n",
       " array([1.00000000e+00, 1.18138867e-02, 9.01688579e-03, 2.61000229e-03,\n",
       "        1.76245370e-03, 1.72115189e-03, 8.61779527e-04, 3.95687574e-04,\n",
       "        2.46129176e-04, 1.94041841e-04, 1.45544148e-04, 1.29276148e-04,\n",
       "        1.00963332e-04, 7.30896119e-05, 3.56192799e-05, 1.12914692e-05,\n",
       "        5.15586774e-07, 2.73153666e-07, 8.83526660e-08, 1.63776696e-10,\n",
       "        5.18053481e-11, 1.37869433e-20]))"
      ]
     },
     "execution_count": 202,
     "metadata": {},
     "output_type": "execute_result"
    }
   ],
   "source": [
    "min_errors = np.min(all_errors_m, axis=0)\n",
    "max_errors = np.max(all_errors_m, axis=0)\n",
    "avg_errors = np.mean(all_errors_m, axis=0)\n",
    "min_errors, max_errors, avg_errors"
   ]
  },
  {
   "cell_type": "code",
   "execution_count": 203,
   "metadata": {},
   "outputs": [
    {
     "data": {
      "text/html": [
       "<div>\n",
       "<style scoped>\n",
       "    .dataframe tbody tr th:only-of-type {\n",
       "        vertical-align: middle;\n",
       "    }\n",
       "\n",
       "    .dataframe tbody tr th {\n",
       "        vertical-align: top;\n",
       "    }\n",
       "\n",
       "    .dataframe thead th {\n",
       "        text-align: right;\n",
       "    }\n",
       "</style>\n",
       "<table border=\"1\" class=\"dataframe\">\n",
       "  <thead>\n",
       "    <tr style=\"text-align: right;\">\n",
       "      <th></th>\n",
       "      <th>number_of_features</th>\n",
       "      <th>min_error</th>\n",
       "      <th>max_error</th>\n",
       "      <th>avg_error</th>\n",
       "    </tr>\n",
       "  </thead>\n",
       "  <tbody>\n",
       "    <tr>\n",
       "      <th>0</th>\n",
       "      <td>0</td>\n",
       "      <td>1.000000e+00</td>\n",
       "      <td>1.000000e+00</td>\n",
       "      <td>1.000000e+00</td>\n",
       "    </tr>\n",
       "    <tr>\n",
       "      <th>1</th>\n",
       "      <td>1</td>\n",
       "      <td>1.181389e-02</td>\n",
       "      <td>1.181389e-02</td>\n",
       "      <td>1.181389e-02</td>\n",
       "    </tr>\n",
       "    <tr>\n",
       "      <th>2</th>\n",
       "      <td>2</td>\n",
       "      <td>9.016886e-03</td>\n",
       "      <td>9.016886e-03</td>\n",
       "      <td>9.016886e-03</td>\n",
       "    </tr>\n",
       "    <tr>\n",
       "      <th>3</th>\n",
       "      <td>3</td>\n",
       "      <td>1.959680e-03</td>\n",
       "      <td>8.462905e-03</td>\n",
       "      <td>2.610002e-03</td>\n",
       "    </tr>\n",
       "    <tr>\n",
       "      <th>4</th>\n",
       "      <td>4</td>\n",
       "      <td>1.744083e-03</td>\n",
       "      <td>1.927794e-03</td>\n",
       "      <td>1.762454e-03</td>\n",
       "    </tr>\n",
       "    <tr>\n",
       "      <th>5</th>\n",
       "      <td>5</td>\n",
       "      <td>1.721152e-03</td>\n",
       "      <td>1.721152e-03</td>\n",
       "      <td>1.721152e-03</td>\n",
       "    </tr>\n",
       "    <tr>\n",
       "      <th>6</th>\n",
       "      <td>6</td>\n",
       "      <td>8.596290e-04</td>\n",
       "      <td>8.639301e-04</td>\n",
       "      <td>8.617795e-04</td>\n",
       "    </tr>\n",
       "    <tr>\n",
       "      <th>7</th>\n",
       "      <td>7</td>\n",
       "      <td>3.956876e-04</td>\n",
       "      <td>3.956876e-04</td>\n",
       "      <td>3.956876e-04</td>\n",
       "    </tr>\n",
       "    <tr>\n",
       "      <th>8</th>\n",
       "      <td>8</td>\n",
       "      <td>2.303828e-04</td>\n",
       "      <td>3.813155e-04</td>\n",
       "      <td>2.461292e-04</td>\n",
       "    </tr>\n",
       "    <tr>\n",
       "      <th>9</th>\n",
       "      <td>9</td>\n",
       "      <td>1.537595e-04</td>\n",
       "      <td>2.224508e-04</td>\n",
       "      <td>1.940418e-04</td>\n",
       "    </tr>\n",
       "    <tr>\n",
       "      <th>10</th>\n",
       "      <td>10</td>\n",
       "      <td>1.455441e-04</td>\n",
       "      <td>1.455441e-04</td>\n",
       "      <td>1.455441e-04</td>\n",
       "    </tr>\n",
       "    <tr>\n",
       "      <th>11</th>\n",
       "      <td>11</td>\n",
       "      <td>6.953418e-05</td>\n",
       "      <td>1.419537e-04</td>\n",
       "      <td>1.292761e-04</td>\n",
       "    </tr>\n",
       "    <tr>\n",
       "      <th>12</th>\n",
       "      <td>12</td>\n",
       "      <td>5.803995e-05</td>\n",
       "      <td>1.282182e-04</td>\n",
       "      <td>1.009633e-04</td>\n",
       "    </tr>\n",
       "    <tr>\n",
       "      <th>13</th>\n",
       "      <td>13</td>\n",
       "      <td>5.006937e-05</td>\n",
       "      <td>1.166527e-04</td>\n",
       "      <td>7.308961e-05</td>\n",
       "    </tr>\n",
       "    <tr>\n",
       "      <th>14</th>\n",
       "      <td>14</td>\n",
       "      <td>1.318877e-05</td>\n",
       "      <td>4.968166e-05</td>\n",
       "      <td>3.561928e-05</td>\n",
       "    </tr>\n",
       "    <tr>\n",
       "      <th>15</th>\n",
       "      <td>15</td>\n",
       "      <td>2.053047e-06</td>\n",
       "      <td>1.285783e-05</td>\n",
       "      <td>1.129147e-05</td>\n",
       "    </tr>\n",
       "    <tr>\n",
       "      <th>16</th>\n",
       "      <td>16</td>\n",
       "      <td>5.155868e-07</td>\n",
       "      <td>5.155868e-07</td>\n",
       "      <td>5.155868e-07</td>\n",
       "    </tr>\n",
       "    <tr>\n",
       "      <th>17</th>\n",
       "      <td>17</td>\n",
       "      <td>7.214706e-08</td>\n",
       "      <td>4.071581e-07</td>\n",
       "      <td>2.731537e-07</td>\n",
       "    </tr>\n",
       "    <tr>\n",
       "      <th>18</th>\n",
       "      <td>18</td>\n",
       "      <td>3.008120e-10</td>\n",
       "      <td>4.071577e-07</td>\n",
       "      <td>8.835267e-08</td>\n",
       "    </tr>\n",
       "    <tr>\n",
       "      <th>19</th>\n",
       "      <td>19</td>\n",
       "      <td>9.435474e-11</td>\n",
       "      <td>3.007779e-10</td>\n",
       "      <td>1.637767e-10</td>\n",
       "    </tr>\n",
       "    <tr>\n",
       "      <th>20</th>\n",
       "      <td>20</td>\n",
       "      <td>4.170331e-18</td>\n",
       "      <td>1.412413e-10</td>\n",
       "      <td>5.180535e-11</td>\n",
       "    </tr>\n",
       "    <tr>\n",
       "      <th>21</th>\n",
       "      <td>21</td>\n",
       "      <td>1.378694e-20</td>\n",
       "      <td>1.378694e-20</td>\n",
       "      <td>1.378694e-20</td>\n",
       "    </tr>\n",
       "  </tbody>\n",
       "</table>\n",
       "</div>"
      ],
      "text/plain": [
       "    number_of_features     min_error     max_error     avg_error\n",
       "0                    0  1.000000e+00  1.000000e+00  1.000000e+00\n",
       "1                    1  1.181389e-02  1.181389e-02  1.181389e-02\n",
       "2                    2  9.016886e-03  9.016886e-03  9.016886e-03\n",
       "3                    3  1.959680e-03  8.462905e-03  2.610002e-03\n",
       "4                    4  1.744083e-03  1.927794e-03  1.762454e-03\n",
       "5                    5  1.721152e-03  1.721152e-03  1.721152e-03\n",
       "6                    6  8.596290e-04  8.639301e-04  8.617795e-04\n",
       "7                    7  3.956876e-04  3.956876e-04  3.956876e-04\n",
       "8                    8  2.303828e-04  3.813155e-04  2.461292e-04\n",
       "9                    9  1.537595e-04  2.224508e-04  1.940418e-04\n",
       "10                  10  1.455441e-04  1.455441e-04  1.455441e-04\n",
       "11                  11  6.953418e-05  1.419537e-04  1.292761e-04\n",
       "12                  12  5.803995e-05  1.282182e-04  1.009633e-04\n",
       "13                  13  5.006937e-05  1.166527e-04  7.308961e-05\n",
       "14                  14  1.318877e-05  4.968166e-05  3.561928e-05\n",
       "15                  15  2.053047e-06  1.285783e-05  1.129147e-05\n",
       "16                  16  5.155868e-07  5.155868e-07  5.155868e-07\n",
       "17                  17  7.214706e-08  4.071581e-07  2.731537e-07\n",
       "18                  18  3.008120e-10  4.071577e-07  8.835267e-08\n",
       "19                  19  9.435474e-11  3.007779e-10  1.637767e-10\n",
       "20                  20  4.170331e-18  1.412413e-10  5.180535e-11\n",
       "21                  21  1.378694e-20  1.378694e-20  1.378694e-20"
      ]
     },
     "execution_count": 203,
     "metadata": {},
     "output_type": "execute_result"
    }
   ],
   "source": [
    "df_reinforce_method = pd.DataFrame({\n",
    "    \"number_of_features\": all_num_ftrs_m[0],\n",
    "    \"min_error\": min_errors,\n",
    "    \"max_error\": max_errors,\n",
    "    \"avg_error\": avg_errors\n",
    "})\n",
    "df_reinforce_method"
   ]
  },
  {
   "cell_type": "code",
   "execution_count": 204,
   "metadata": {},
   "outputs": [],
   "source": [
    "df_reinforce_method.to_csv(\"../data/results/REINFORCE_method.csv\", index=False)"
   ]
  },
  {
   "cell_type": "code",
   "execution_count": 205,
   "metadata": {},
   "outputs": [
    {
     "data": {
      "image/png": "[encoded data removed]",
      "text/plain": [
       "<Figure size 1000x750 with 1 Axes>"
      ]
     },
     "metadata": {},
     "output_type": "display_data"
    }
   ],
   "source": [
    "# Plot\n",
    "plt.figure(figsize=(10, 7.5))\n",
    "plt.plot(all_num_ftrs_m[0], min_errors, marker='o', label='Minimum Error')\n",
    "plt.plot(all_num_ftrs_m[0], max_errors, marker='o', label='Maximum Error')\n",
    "plt.plot(all_num_ftrs_m[0], avg_errors, marker='o', label='Average Error')\n",
    "\n",
    "# Add plot details\n",
    "plt.xlabel('Number of Metrics')\n",
    "plt.ylabel('Sammon Error')\n",
    "# plt.title('Model Stability across Retrainings')\n",
    "plt.xticks(all_num_ftrs_m[0])  # Ensure x-axis ticks are integers from all_num_ftrs\n",
    "plt.legend()\n",
    "plt.grid(True)\n",
    "plt.show()"
   ]
  },
  {
   "cell_type": "code",
   "execution_count": null,
   "metadata": {},
   "outputs": [],
   "source": []
  }
 ],
 "metadata": {
  "kernelspec": {
   "display_name": "inno-em",
   "language": "python",
   "name": "python3"
  },
  "language_info": {
   "codemirror_mode": {
    "name": "ipython",
    "version": 3
   },
   "file_extension": ".py",
   "mimetype": "text/x-python",
   "name": "python",
   "nbconvert_exporter": "python",
   "pygments_lexer": "ipython3",
   "version": "3.10.14"
  }
 },
 "nbformat": 4,
 "nbformat_minor": 2
}
