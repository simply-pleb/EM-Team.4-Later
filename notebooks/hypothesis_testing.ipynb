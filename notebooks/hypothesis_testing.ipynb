{
 "cells": [
  {
   "cell_type": "code",
   "execution_count": 41,
   "metadata": {},
   "outputs": [],
   "source": [
    "import pandas as pd\n",
    "import numpy as np\n",
    "\n",
    "from scipy.stats import rankdata\n",
    "from scipy.stats import ks_2samp"
   ]
  },
  {
   "cell_type": "code",
   "execution_count": 55,
   "metadata": {},
   "outputs": [],
   "source": [
    "path_reinforce_class = \"../data/results/REINFORCE_class.csv\"\n",
    "path_reinforce_method = \"../data/results/REINFORCE_method.csv\"\n",
    "path_sfs_class = \"../data/results/SFS_class.csv\"\n",
    "path_sfs_method = \"../data/results/SFS_method.csv\""
   ]
  },
  {
   "cell_type": "code",
   "execution_count": 56,
   "metadata": {},
   "outputs": [
    {
     "data": {
      "text/html": [
       "<div>\n",
       "<style scoped>\n",
       "    .dataframe tbody tr th:only-of-type {\n",
       "        vertical-align: middle;\n",
       "    }\n",
       "\n",
       "    .dataframe tbody tr th {\n",
       "        vertical-align: top;\n",
       "    }\n",
       "\n",
       "    .dataframe thead th {\n",
       "        text-align: right;\n",
       "    }\n",
       "</style>\n",
       "<table border=\"1\" class=\"dataframe\">\n",
       "  <thead>\n",
       "    <tr style=\"text-align: right;\">\n",
       "      <th></th>\n",
       "      <th>number_of_features</th>\n",
       "      <th>min_error</th>\n",
       "      <th>max_error</th>\n",
       "      <th>avg_error</th>\n",
       "    </tr>\n",
       "  </thead>\n",
       "  <tbody>\n",
       "    <tr>\n",
       "      <th>0</th>\n",
       "      <td>0</td>\n",
       "      <td>1.000000e+00</td>\n",
       "      <td>1.000000e+00</td>\n",
       "      <td>1.000000e+00</td>\n",
       "    </tr>\n",
       "    <tr>\n",
       "      <th>1</th>\n",
       "      <td>1</td>\n",
       "      <td>2.571245e-01</td>\n",
       "      <td>3.630284e-01</td>\n",
       "      <td>2.681062e-01</td>\n",
       "    </tr>\n",
       "    <tr>\n",
       "      <th>2</th>\n",
       "      <td>2</td>\n",
       "      <td>9.754496e-02</td>\n",
       "      <td>1.328978e-01</td>\n",
       "      <td>1.256821e-01</td>\n",
       "    </tr>\n",
       "    <tr>\n",
       "      <th>3</th>\n",
       "      <td>3</td>\n",
       "      <td>4.319395e-02</td>\n",
       "      <td>6.600571e-02</td>\n",
       "      <td>5.463213e-02</td>\n",
       "    </tr>\n",
       "    <tr>\n",
       "      <th>4</th>\n",
       "      <td>4</td>\n",
       "      <td>1.850169e-02</td>\n",
       "      <td>1.850169e-02</td>\n",
       "      <td>1.850169e-02</td>\n",
       "    </tr>\n",
       "    <tr>\n",
       "      <th>5</th>\n",
       "      <td>5</td>\n",
       "      <td>7.790031e-03</td>\n",
       "      <td>1.058666e-02</td>\n",
       "      <td>8.076199e-03</td>\n",
       "    </tr>\n",
       "    <tr>\n",
       "      <th>6</th>\n",
       "      <td>6</td>\n",
       "      <td>3.192803e-03</td>\n",
       "      <td>3.677137e-03</td>\n",
       "      <td>3.580270e-03</td>\n",
       "    </tr>\n",
       "    <tr>\n",
       "      <th>7</th>\n",
       "      <td>7</td>\n",
       "      <td>6.633146e-04</td>\n",
       "      <td>6.633146e-04</td>\n",
       "      <td>6.633146e-04</td>\n",
       "    </tr>\n",
       "    <tr>\n",
       "      <th>8</th>\n",
       "      <td>8</td>\n",
       "      <td>2.659712e-04</td>\n",
       "      <td>2.659712e-04</td>\n",
       "      <td>2.659712e-04</td>\n",
       "    </tr>\n",
       "    <tr>\n",
       "      <th>9</th>\n",
       "      <td>9</td>\n",
       "      <td>9.463050e-05</td>\n",
       "      <td>1.016169e-04</td>\n",
       "      <td>9.742507e-05</td>\n",
       "    </tr>\n",
       "    <tr>\n",
       "      <th>10</th>\n",
       "      <td>10</td>\n",
       "      <td>3.241470e-05</td>\n",
       "      <td>3.241470e-05</td>\n",
       "      <td>3.241470e-05</td>\n",
       "    </tr>\n",
       "    <tr>\n",
       "      <th>11</th>\n",
       "      <td>11</td>\n",
       "      <td>1.606019e-05</td>\n",
       "      <td>1.662088e-05</td>\n",
       "      <td>1.628447e-05</td>\n",
       "    </tr>\n",
       "    <tr>\n",
       "      <th>12</th>\n",
       "      <td>12</td>\n",
       "      <td>6.027447e-06</td>\n",
       "      <td>6.370661e-06</td>\n",
       "      <td>6.096089e-06</td>\n",
       "    </tr>\n",
       "    <tr>\n",
       "      <th>13</th>\n",
       "      <td>13</td>\n",
       "      <td>1.145282e-06</td>\n",
       "      <td>2.607501e-06</td>\n",
       "      <td>1.414713e-06</td>\n",
       "    </tr>\n",
       "    <tr>\n",
       "      <th>14</th>\n",
       "      <td>14</td>\n",
       "      <td>5.727801e-08</td>\n",
       "      <td>5.727801e-08</td>\n",
       "      <td>5.727801e-08</td>\n",
       "    </tr>\n",
       "    <tr>\n",
       "      <th>15</th>\n",
       "      <td>15</td>\n",
       "      <td>3.722816e-08</td>\n",
       "      <td>4.722254e-08</td>\n",
       "      <td>4.384963e-08</td>\n",
       "    </tr>\n",
       "    <tr>\n",
       "      <th>16</th>\n",
       "      <td>16</td>\n",
       "      <td>2.358485e-08</td>\n",
       "      <td>3.833077e-08</td>\n",
       "      <td>3.108861e-08</td>\n",
       "    </tr>\n",
       "    <tr>\n",
       "      <th>17</th>\n",
       "      <td>17</td>\n",
       "      <td>1.383353e-08</td>\n",
       "      <td>2.954329e-08</td>\n",
       "      <td>2.111956e-08</td>\n",
       "    </tr>\n",
       "    <tr>\n",
       "      <th>18</th>\n",
       "      <td>18</td>\n",
       "      <td>7.041804e-09</td>\n",
       "      <td>1.816805e-08</td>\n",
       "      <td>1.155210e-08</td>\n",
       "    </tr>\n",
       "    <tr>\n",
       "      <th>19</th>\n",
       "      <td>19</td>\n",
       "      <td>2.365963e-09</td>\n",
       "      <td>9.710841e-09</td>\n",
       "      <td>4.540824e-09</td>\n",
       "    </tr>\n",
       "    <tr>\n",
       "      <th>20</th>\n",
       "      <td>20</td>\n",
       "      <td>5.910322e-10</td>\n",
       "      <td>4.750808e-09</td>\n",
       "      <td>1.620775e-09</td>\n",
       "    </tr>\n",
       "    <tr>\n",
       "      <th>21</th>\n",
       "      <td>21</td>\n",
       "      <td>1.994035e-20</td>\n",
       "      <td>1.994035e-20</td>\n",
       "      <td>1.994035e-20</td>\n",
       "    </tr>\n",
       "  </tbody>\n",
       "</table>\n",
       "</div>"
      ],
      "text/plain": [
       "    number_of_features     min_error     max_error     avg_error\n",
       "0                    0  1.000000e+00  1.000000e+00  1.000000e+00\n",
       "1                    1  2.571245e-01  3.630284e-01  2.681062e-01\n",
       "2                    2  9.754496e-02  1.328978e-01  1.256821e-01\n",
       "3                    3  4.319395e-02  6.600571e-02  5.463213e-02\n",
       "4                    4  1.850169e-02  1.850169e-02  1.850169e-02\n",
       "5                    5  7.790031e-03  1.058666e-02  8.076199e-03\n",
       "6                    6  3.192803e-03  3.677137e-03  3.580270e-03\n",
       "7                    7  6.633146e-04  6.633146e-04  6.633146e-04\n",
       "8                    8  2.659712e-04  2.659712e-04  2.659712e-04\n",
       "9                    9  9.463050e-05  1.016169e-04  9.742507e-05\n",
       "10                  10  3.241470e-05  3.241470e-05  3.241470e-05\n",
       "11                  11  1.606019e-05  1.662088e-05  1.628447e-05\n",
       "12                  12  6.027447e-06  6.370661e-06  6.096089e-06\n",
       "13                  13  1.145282e-06  2.607501e-06  1.414713e-06\n",
       "14                  14  5.727801e-08  5.727801e-08  5.727801e-08\n",
       "15                  15  3.722816e-08  4.722254e-08  4.384963e-08\n",
       "16                  16  2.358485e-08  3.833077e-08  3.108861e-08\n",
       "17                  17  1.383353e-08  2.954329e-08  2.111956e-08\n",
       "18                  18  7.041804e-09  1.816805e-08  1.155210e-08\n",
       "19                  19  2.365963e-09  9.710841e-09  4.540824e-09\n",
       "20                  20  5.910322e-10  4.750808e-09  1.620775e-09\n",
       "21                  21  1.994035e-20  1.994035e-20  1.994035e-20"
      ]
     },
     "execution_count": 56,
     "metadata": {},
     "output_type": "execute_result"
    }
   ],
   "source": [
    "df_reinforce_class = pd.read_csv(path_reinforce_class)\n",
    "df_reinforce_method = pd.read_csv(path_reinforce_method)\n",
    "df_sfs_class =pd.read_csv(path_sfs_class)\n",
    "df_sfs_method = pd.read_csv(path_sfs_method)\n",
    "\n",
    "df_reinforce_class"
   ]
  },
  {
   "cell_type": "markdown",
   "metadata": {},
   "source": [
    "### Class"
   ]
  },
  {
   "cell_type": "code",
   "execution_count": 77,
   "metadata": {},
   "outputs": [
    {
     "name": "stdout",
     "output_type": "stream",
     "text": [
      "SFS Ranks: [42.  40.  38.  35.5 34.  32.  29.5 27.5 26.  23.  22.  20.  18.  15.5\n",
      " 14.  12.  10.   8.   6.   4.   1.5]\n",
      "REINFORCE Ranks: [41.  39.  37.  35.5 33.  31.  29.5 27.5 25.  24.  21.  19.  17.  15.5\n",
      " 13.  11.   9.   7.   5.   3.   1.5]\n"
     ]
    }
   ],
   "source": [
    "# Combine data\n",
    "reinforce = list(df_reinforce_class['avg_error'][1:])\n",
    "sfs = list(df_sfs_class['error'][1:])\n",
    "combined = sfs + reinforce\n",
    "\n",
    "# Rank the data\n",
    "ranks = rankdata(combined)\n",
    "\n",
    "# Split the ranks back into groups\n",
    "reinforce_ranks = ranks[:len(sfs)]\n",
    "sfs_ranks = ranks[len(sfs):]\n",
    "\n",
    "print(\"SFS Ranks:\", sfs_ranks)\n",
    "print(\"REINFORCE Ranks:\", reinforce_ranks)"
   ]
  },
  {
   "cell_type": "code",
   "execution_count": 78,
   "metadata": {},
   "outputs": [
    {
     "name": "stdout",
     "output_type": "stream",
     "text": [
      "Sum of SFS Ranks: 458.5\n",
      "Sum of REINFORCE Ranks: 444.5\n"
     ]
    }
   ],
   "source": [
    "R_SFS = np.sum(sfs_ranks)\n",
    "R_REINFORCE = np.sum(reinforce_ranks)\n",
    "\n",
    "print(f\"Sum of SFS Ranks: {R_SFS}\")\n",
    "print(f\"Sum of REINFORCE Ranks: {R_REINFORCE}\")"
   ]
  },
  {
   "cell_type": "code",
   "execution_count": 79,
   "metadata": {},
   "outputs": [
    {
     "name": "stdout",
     "output_type": "stream",
     "text": [
      "U statistic for SFS: 213.5\n",
      "U statistic for REINFORCE: 227.5\n"
     ]
    }
   ],
   "source": [
    "n1 = len(sfs_ranks)\n",
    "n2 = len(reinforce_ranks)\n",
    "\n",
    "U_SFS = n1 * n2 + (n1 * (n1 + 1)) / 2 - R_SFS\n",
    "U_REINFORCE = n1 * n2 - U_SFS\n",
    "\n",
    "print(f\"U statistic for SFS: {U_SFS}\")\n",
    "print(f\"U statistic for REINFORCE: {U_REINFORCE}\")\n"
   ]
  },
  {
   "cell_type": "code",
   "execution_count": 80,
   "metadata": {},
   "outputs": [
    {
     "name": "stdout",
     "output_type": "stream",
     "text": [
      "Mann-Whitney U statistic: 227.5\n",
      "P-value: 0.8700889948173781\n"
     ]
    }
   ],
   "source": [
    "from scipy.stats import mannwhitneyu\n",
    "\n",
    "# Perform the Mann-Whitney U test\n",
    "stat, p_value = mannwhitneyu(sfs_ranks, reinforce_ranks, alternative='two-sided')\n",
    "\n",
    "print(f\"Mann-Whitney U statistic: {stat}\")\n",
    "print(f\"P-value: {p_value}\")\n"
   ]
  },
  {
   "cell_type": "code",
   "execution_count": 81,
   "metadata": {},
   "outputs": [],
   "source": [
    "ALPHA = 0.05"
   ]
  },
  {
   "cell_type": "markdown",
   "metadata": {},
   "source": [
    "### 4. Report the Results\n",
    "   Once you have the \\(U\\)-statistics and \\(p\\)-value:\n",
    "   - Summarize the results in a table.\n",
    "   - Mention whether the null hypothesis was rejected or not.\n",
    "\n",
    "For example:\n",
    "\n",
    "| Method        | Sum of Ranks (\\(R\\)) | \\(U\\)-Statistic | \\(p\\)-Value | Conclusion                        |\n",
    "|---------------|-----------------------|-----------------|-------------|----------------------------------|\n",
    "| SFS           | [Calculated Value]   | [Calculated Value] | [Calculated Value] | No significant difference if \\(p \\geq 0.05\\) |\n",
    "| REINFORCE     | [Calculated Value]   | [Calculated Value] | [Calculated Value] | Same conclusion as above |\n",
    "\n",
    "Let me know if you encounter any issues or need further clarification!"
   ]
  },
  {
   "cell_type": "markdown",
   "metadata": {},
   "source": [
    "### Method"
   ]
  },
  {
   "cell_type": "code",
   "execution_count": 73,
   "metadata": {},
   "outputs": [
    {
     "name": "stdout",
     "output_type": "stream",
     "text": [
      "SFS Ranks: [41.5 40.  38.  36.  35.  33.  31.  29.  27.  25.  24.  23.  21.  19.\n",
      " 17.  12.  10.   9.   6.   4.   1.5]\n",
      "REINFORCE Ranks: [41.5 39.  37.  34.  32.  30.  28.  26.  22.  20.  18.  16.  15.  14.\n",
      " 13.  11.   8.   7.   5.   3.   1.5]\n"
     ]
    }
   ],
   "source": [
    "# Combine data\n",
    "reinforce = list(df_reinforce_method['avg_error'][1:])\n",
    "sfs = list(df_sfs_method['error'][1:])\n",
    "combined = sfs + reinforce\n",
    "\n",
    "# Rank the data\n",
    "ranks = rankdata(combined)\n",
    "\n",
    "# Split the ranks back into groups\n",
    "reinforce_ranks = ranks[:len(sfs)]\n",
    "sfs_ranks = ranks[len(sfs):]\n",
    "\n",
    "print(\"SFS Ranks:\", sfs_ranks)\n",
    "print(\"REINFORCE Ranks:\", reinforce_ranks)"
   ]
  },
  {
   "cell_type": "code",
   "execution_count": 74,
   "metadata": {},
   "outputs": [
    {
     "name": "stdout",
     "output_type": "stream",
     "text": [
      "Sum of SFS Ranks: 482.0\n",
      "Sum of REINFORCE Ranks: 421.0\n"
     ]
    }
   ],
   "source": [
    "R_SFS = np.sum(sfs_ranks)\n",
    "R_REINFORCE = np.sum(reinforce_ranks)\n",
    "\n",
    "print(f\"Sum of SFS Ranks: {R_SFS}\")\n",
    "print(f\"Sum of REINFORCE Ranks: {R_REINFORCE}\")"
   ]
  },
  {
   "cell_type": "code",
   "execution_count": 75,
   "metadata": {},
   "outputs": [
    {
     "name": "stdout",
     "output_type": "stream",
     "text": [
      "U statistic for SFS: 190.0\n",
      "U statistic for REINFORCE: 251.0\n"
     ]
    }
   ],
   "source": [
    "n1 = len(sfs_ranks)\n",
    "n2 = len(reinforce_ranks)\n",
    "\n",
    "U_SFS = n1 * n2 + (n1 * (n1 + 1)) / 2 - R_SFS\n",
    "U_REINFORCE = n1 * n2 - U_SFS\n",
    "\n",
    "print(f\"U statistic for SFS: {U_SFS}\")\n",
    "print(f\"U statistic for REINFORCE: {U_REINFORCE}\")\n"
   ]
  },
  {
   "cell_type": "code",
   "execution_count": 76,
   "metadata": {},
   "outputs": [
    {
     "name": "stdout",
     "output_type": "stream",
     "text": [
      "Mann-Whitney U statistic: 251.0\n",
      "P-value: 0.4504089831168169\n"
     ]
    }
   ],
   "source": [
    "from scipy.stats import mannwhitneyu\n",
    "\n",
    "# Perform the Mann-Whitney U test\n",
    "stat, p_value = mannwhitneyu(sfs_ranks, reinforce_ranks, alternative='two-sided')\n",
    "\n",
    "print(f\"Mann-Whitney U statistic: {stat}\")\n",
    "print(f\"P-value: {p_value}\")\n"
   ]
  },
  {
   "cell_type": "code",
   "execution_count": null,
   "metadata": {},
   "outputs": [],
   "source": []
  }
 ],
 "metadata": {
  "kernelspec": {
   "display_name": "inno-em",
   "language": "python",
   "name": "python3"
  },
  "language_info": {
   "codemirror_mode": {
    "name": "ipython",
    "version": 3
   },
   "file_extension": ".py",
   "mimetype": "text/x-python",
   "name": "python",
   "nbconvert_exporter": "python",
   "pygments_lexer": "ipython3",
   "version": "3.10.14"
  }
 },
 "nbformat": 4,
 "nbformat_minor": 2
}
